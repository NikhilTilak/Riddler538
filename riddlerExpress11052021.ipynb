{
 "cells": [
  {
   "cell_type": "code",
   "execution_count": 1,
   "source": [
    "import numpy as np"
   ],
   "outputs": [],
   "metadata": {}
  },
  {
   "cell_type": "code",
   "execution_count": null,
   "source": [],
   "outputs": [],
   "metadata": {}
  },
  {
   "cell_type": "markdown",
   "source": [
    "The  probability for someone on $\\mu\\epsilon\\tau\\alpha$ to have k friends out of N people on the platform is given by,\n",
    "\n",
    "$$ p(k) = {N \\choose k} (\\frac{1}{2})^k(\\frac{1}{2})^{N-k} = \\frac{1}{2^N}{N \\choose k}$$"
   ],
   "metadata": {}
  },
  {
   "cell_type": "markdown",
   "source": [
    "Now, the expected number of friends that marcia has is given by "
   ],
   "metadata": {}
  }
 ],
 "metadata": {
  "orig_nbformat": 4,
  "language_info": {
   "name": "python",
   "version": "3.7.7",
   "mimetype": "text/x-python",
   "codemirror_mode": {
    "name": "ipython",
    "version": 3
   },
   "pygments_lexer": "ipython3",
   "nbconvert_exporter": "python",
   "file_extension": ".py"
  },
  "kernelspec": {
   "name": "python3",
   "display_name": "Python 3.7.7 64-bit ('erdos_env': conda)"
  },
  "interpreter": {
   "hash": "c4ba188d52dc677d9c0d36e16a92eab8103d14eba88defaba2805d6d133f59d3"
  }
 },
 "nbformat": 4,
 "nbformat_minor": 2
}