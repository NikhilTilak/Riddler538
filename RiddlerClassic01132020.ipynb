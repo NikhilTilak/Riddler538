{
 "cells": [
  {
   "cell_type": "markdown",
   "metadata": {},
   "source": [
    "From Leonard Cohen comes a puzzle at the intersection of language and mathematics:\n",
    "\n",
    "In Jewish study, “Gematria” is an alphanumeric code where words are assigned numerical values based on their letters. We can do the same in English, assigning 1 to the letter A, 2 to the letter B, and so on, up to 26 for the letter Z. The value of a word is then the sum of the values of its letters. For example, RIDDLER has an alphanumeric value of 70, since R + I + D + D + L + E + R becomes 18 + 9 + 4 + 4 + 12 + 5 + 18 = 70.\n",
    "\n",
    "But what about the values of different numbers themselves, spelled out as words? The number 1 (ONE) has an alphanumeric value of 15 + 14 + 5 = 34, and 2 (TWO) has an alphanumeric value of 20 + 23 + 15 = 58. Both of these values are bigger than the numbers themselves.\n",
    "\n",
    "Meanwhile, if we look at larger numbers, 1,417 (ONE THOUSAND FOUR HUNDRED SEVENTEEN) has an alphanumeric value of 379, while 3,140,275 (THREE MILLION ONE HUNDRED FORTY THOUSAND TWO HUNDRED SEVENTY FIVE) has an alphanumeric value of 718. These values are much smaller than the numbers themselves.\n",
    "\n",
    "If we consider all the whole numbers that are less than their alphanumeric value, what is the largest of these numbers?"
   ]
  },
  {
   "cell_type": "code",
   "execution_count": 198,
   "metadata": {},
   "outputs": [
    {
     "name": "stdout",
     "output_type": "stream",
     "text": [
      "279\n"
     ]
    }
   ],
   "source": [
    "import numpy as np\n",
    "\n",
    "letters=['a','b','c','d','e','f','g','h','i','j','k','l','m','n','o','p','q','r','s','t','u','v','w','x','y','z']\n",
    "numbers=['one','two','three','four','five','six','seven','eight','nine','ten','eleven', 'twelve', 'thirteen', 'fourteen', 'fifteen', 'sixteen', 'seventeen', 'eighteen', 'nineteen']\n",
    "tens=['twenty','thirty','fourty','fifty','sixty','seventy','eighty','ninety']\n",
    "order=['thousand','million','billion']\n",
    "\n",
    "\n",
    "def split_into_threes(n,s):\n",
    "    \"\"\"Takes number as input and outputs a list of its parts in groups of three. e.g. Input:1234567 Output:['567','234','1']\"\"\"\n",
    "    nn=str(n)\n",
    "    digits=len(nn)\n",
    "    if (digits >=3):\n",
    "        l=nn[digits-3:digits]\n",
    "        n=int((n-int(l))/10**3)\n",
    "        s.append(l)\n",
    "        if(digits==3):\n",
    "            ;\n",
    "        else:\n",
    "            split_into_threes(n,s) #recursive function\n",
    "    elif (digits==2):\n",
    "        s.append(str(n))\n",
    "    else:\n",
    "        s.append(str(n))\n",
    "    return s    \n",
    "\n",
    "def num_to_string(ss):\n",
    "    \"\"\"Accepts a string of upto 3 numbers to write out the numbers in words\n",
    "    eg: input['275'] output (TWO HUNDRED SEVENTY FIVE) \"\"\"\n",
    "    num_dig=len(ss) #number of digits\n",
    "    if(num_dig==1): #one digit number\n",
    "            return numbers[int(ss)-1]\n",
    "    elif(num_dig==2): #two digit number\n",
    "        if(int(ss)<20): #below twenty is simply bruteforce\n",
    "            return numbers[int(ss)-1]\n",
    "        else: #number between 20 and 99\n",
    "            tens_place=int((int(ss)-int(ss)%10)/10) # tens place digit\n",
    "            n=int(int(ss)-tens_place*10) # Now were back to a one digit number\n",
    "            n=str(n)\n",
    "            if int(n)!=0:\n",
    "                return tens[tens_place-2] +' '+ num_to_string (n) #recursive function\n",
    "            else:\n",
    "                return tens[tens_place-2]\n",
    "    \n",
    "    else: #three digit number\n",
    "        hun= int((int(ss)-int(ss)%100)/100)\n",
    "        n=int(int(ss)-hun*100) #now were back to a two digit number \n",
    "        n=str(n)\n",
    "        return numbers[hun-1]+'hundred'+ num_to_string (n) #recursive function\n",
    "\n",
    "def find_val(s):\n",
    "    \"\"\"Given a string calculates its alphanumeric score\"\"\"\n",
    "    val=0\n",
    "    for i in range(len(s)):\n",
    "        val+=letters.index(s[i])+1\n",
    "    return val\n",
    "\n",
    "maxj=1\n",
    "\n",
    "for j in range(10000):\n",
    "    s=[]\n",
    "    list_of_str=split_into_threes(j+1,s)\n",
    "\n",
    "    list_of_str=list_of_str[::-1]\n",
    "\n",
    "    #print(list_of_str)\n",
    "\n",
    "    k=len(list_of_str) #this is the number of 3-digit parts of the input number\n",
    "    ans=''\n",
    "    for i in range(k):\n",
    "        ans=ans+(num_to_string(list_of_str[i]))\n",
    "        if(k-i-2>=0):\n",
    "            ans=ans+' '+ order[k-i-2]+ ' '\n",
    "        else:\n",
    "            ;\n",
    "    ans=ans.replace(\" \",\"\") #get rid of spaces\n",
    "    value=find_val(ans)\n",
    "    \n",
    "    if j+1<value:\n",
    "        if j+1 > maxj:\n",
    "            maxj=j+1\n",
    "        else:\n",
    "            ;\n",
    "print(maxj)"
   ]
  },
  {
   "cell_type": "code",
   "execution_count": 116,
   "metadata": {},
   "outputs": [
    {
     "data": {
      "text/plain": [
       "'thirty four'"
      ]
     },
     "execution_count": 116,
     "metadata": {},
     "output_type": "execute_result"
    }
   ],
   "source": [
    "test='34'\n",
    "num_to_string(test)"
   ]
  },
  {
   "cell_type": "code",
   "execution_count": 117,
   "metadata": {},
   "outputs": [
    {
     "data": {
      "text/plain": [
       "'three hundred fourty five'"
      ]
     },
     "execution_count": 117,
     "metadata": {},
     "output_type": "execute_result"
    }
   ],
   "source": [
    "test='345'\n",
    "num_to_string(test)"
   ]
  },
  {
   "cell_type": "code",
   "execution_count": 134,
   "metadata": {},
   "outputs": [
    {
     "data": {
      "text/plain": [
       "['456', '123']"
      ]
     },
     "execution_count": 134,
     "metadata": {},
     "output_type": "execute_result"
    }
   ],
   "source": [
    "split_into_threes(123456,s)"
   ]
  },
  {
   "cell_type": "code",
   "execution_count": 178,
   "metadata": {},
   "outputs": [
    {
     "data": {
      "text/plain": [
       "216"
      ]
     },
     "execution_count": 178,
     "metadata": {},
     "output_type": "execute_result"
    }
   ],
   "source": [
    "find_val('threehundrednineteen')"
   ]
  },
  {
   "cell_type": "code",
   "execution_count": 177,
   "metadata": {},
   "outputs": [
    {
     "data": {
      "text/plain": [
       "271"
      ]
     },
     "execution_count": 177,
     "metadata": {},
     "output_type": "execute_result"
    }
   ],
   "source": [
    "find_val('threehundredtwentyone')"
   ]
  },
  {
   "cell_type": "code",
   "execution_count": 179,
   "metadata": {},
   "outputs": [
    {
     "data": {
      "text/plain": [
       "237"
      ]
     },
     "execution_count": 179,
     "metadata": {},
     "output_type": "execute_result"
    }
   ],
   "source": [
    "find_val('threehundredtwenty')"
   ]
  },
  {
   "cell_type": "code",
   "execution_count": 194,
   "metadata": {},
   "outputs": [
    {
     "data": {
      "text/plain": [
       "'two hundred seventy nine'"
      ]
     },
     "execution_count": 194,
     "metadata": {},
     "output_type": "execute_result"
    }
   ],
   "source": [
    "num_to_string('279')"
   ]
  },
  {
   "cell_type": "code",
   "execution_count": 195,
   "metadata": {},
   "outputs": [
    {
     "data": {
      "text/plain": [
       "284"
      ]
     },
     "execution_count": 195,
     "metadata": {},
     "output_type": "execute_result"
    }
   ],
   "source": [
    "find_val('twohundredseventynine')"
   ]
  },
  {
   "cell_type": "code",
   "execution_count": null,
   "metadata": {},
   "outputs": [],
   "source": []
  }
 ],
 "metadata": {
  "kernelspec": {
   "display_name": "Python 3",
   "language": "python",
   "name": "python3"
  },
  "language_info": {
   "codemirror_mode": {
    "name": "ipython",
    "version": 3
   },
   "file_extension": ".py",
   "mimetype": "text/x-python",
   "name": "python",
   "nbconvert_exporter": "python",
   "pygments_lexer": "ipython3",
   "version": "3.7.3"
  }
 },
 "nbformat": 4,
 "nbformat_minor": 2
}
