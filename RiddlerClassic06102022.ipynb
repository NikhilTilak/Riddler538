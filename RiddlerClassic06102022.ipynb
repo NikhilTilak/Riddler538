{
  "nbformat": 4,
  "nbformat_minor": 0,
  "metadata": {
    "colab": {
      "name": "RiddlerClassic06102022.ipynb",
      "provenance": []
    },
    "kernelspec": {
      "name": "python3",
      "display_name": "Python 3"
    },
    "language_info": {
      "name": "python"
    }
  },
  "cells": [
    {
      "cell_type": "markdown",
      "source": [
        "**Riddler Classic**\n",
        "\n",
        "You are trying to catch a grasshopper on a balance beam that is 1 meter long. Every time you try to catch it, it jumps to a random point along the interval between 20 centimeters left of its current position and 20 centimeters right of its current position.\n",
        "\n",
        "If the grasshopper is within 20 centimeters of one of the edges, it will not jump off the edge. For example, if it is 10 centimeters from the left edge of the beam, then it will randomly jump to anywhere within 30 centimeters of that edge with equal probability (meaning it will be twice as likely to jump right as it is to jump left).\n",
        "\n",
        "After many, many failed attempts to catch the grasshopper, where is it most likely to be on the beam? Where is it least likely? And what is the ratio between these respective probabilities?"
      ],
      "metadata": {
        "id": "MLpletg-ClWQ"
      }
    },
    {
      "cell_type": "markdown",
      "source": [
        "Simulation:\n",
        "\n",
        "Initialize the grasshopper randomly on the balance beam.\n",
        "\n",
        "Then update the position using the rules. \n",
        "\n",
        "keep an record of positions.\n",
        "\n",
        "After running the simulation many times, plot the histogram of the positions."
      ],
      "metadata": {
        "id": "2GbyALMMC8fA"
      }
    },
    {
      "cell_type": "code",
      "source": [
        "import numpy as np\n",
        "import matplotlib.pyplot as plt"
      ],
      "metadata": {
        "id": "0Gx6qhRvDh_2"
      },
      "execution_count": null,
      "outputs": []
    },
    {
      "cell_type": "code",
      "source": [
        "def max_val(A, B):\n",
        "    if A>=B:\n",
        "        return A\n",
        "    else:\n",
        "         return B\n",
        "def min_val(A, B):\n",
        "    if A>=B:\n",
        "        return B\n",
        "    else:\n",
        "         return A\n",
        "\n",
        "def update(x_curr):\n",
        "    \"\"\"Takes the current position and updates it using the rules of the game\"\"\"\n",
        "    #check if the current position is within 20 cm of either edge:\n",
        "    return np.random.uniform(max_val(x_curr-0.2, -0.5), min_val(x_curr+0.2, 0.5))\n"
      ],
      "metadata": {
        "id": "vlwhLmMjDyw_"
      },
      "execution_count": null,
      "outputs": []
    },
    {
      "cell_type": "code",
      "source": [
        "#Testing the update function:\n",
        "# \"if it is 10 centimeters from the left edge of the beam, then it will randomly jump to anywhere within 30 centimeters of that edge with equal probability \n",
        "# (meaning it will be twice as likely to jump right as it is to jump left).\"\n",
        "pos = []\n",
        "for i in range(100000):\n",
        "    pos.append(update(0.4))\n",
        "\n",
        "c_plus = sum([1 if i>0.4 else 0 for i in pos])\n",
        "c_minus = len(pos)-c_plus\n",
        "\n",
        "c_minus/c_plus"
      ],
      "metadata": {
        "colab": {
          "base_uri": "https://localhost:8080/"
        },
        "id": "lWM1Ebw9SPlV",
        "outputId": "b89a722e-c768-4f30-d561-dc13854d4dc9"
      },
      "execution_count": null,
      "outputs": [
        {
          "output_type": "execute_result",
          "data": {
            "text/plain": [
              "2.00815209216978"
            ]
          },
          "metadata": {},
          "execution_count": 25
        }
      ]
    },
    {
      "cell_type": "code",
      "source": [
        "steps= 1000000\n",
        "x_curr = np.random.uniform(-0.5,0.5)\n",
        "positions = [x_curr]\n",
        "while(steps>0):\n",
        "    x_curr = update(x_curr)\n",
        "    positions.append(x_curr)\n",
        "    steps-=1\n"
      ],
      "metadata": {
        "id": "rIWvZQWHGDtc"
      },
      "execution_count": null,
      "outputs": []
    },
    {
      "cell_type": "code",
      "source": [
        "fig, ax = plt.subplots()\n",
        "ax.hist(positions, bins = 100, density=True)\n",
        "plt.show()"
      ],
      "metadata": {
        "colab": {
          "base_uri": "https://localhost:8080/",
          "height": 265
        },
        "id": "nBY4_MnlG3yy",
        "outputId": "de84a7af-b7a2-4e29-adc5-44f2cdf71219"
      },
      "execution_count": null,
      "outputs": [
        {
          "output_type": "display_data",
          "data": {
            "text/plain": [
              "<Figure size 432x288 with 1 Axes>"
            ],
            "image/png": "[encoded data removed]"
          },
          "metadata": {
            "needs_background": "light"
          }
        }
      ]
    },
    {
      "cell_type": "code",
      "source": [
        "np.histogram(positions, bins=100, density=True)"
      ],
      "metadata": {
        "colab": {
          "base_uri": "https://localhost:8080/"
        },
        "id": "2ILqQttTHJW0",
        "outputId": "56e9948e-742e-4d9d-879b-f254b6f8c0cd"
      },
      "execution_count": null,
      "outputs": [
        {
          "output_type": "execute_result",
          "data": {
            "text/plain": [
              "(array([0.57169988, 0.59599988, 0.62209987, 0.65279987, 0.68199986,\n",
              "        0.71169986, 0.75569985, 0.76339985, 0.79589984, 0.81659983,\n",
              "        0.83819983, 0.86929982, 0.90249982, 0.94039981, 0.95879981,\n",
              "        0.9860998 , 1.02799979, 1.03189979, 1.06789978, 1.11189978,\n",
              "        1.10589978, 1.11649977, 1.11449977, 1.09779978, 1.08939978,\n",
              "        1.11069978, 1.09909978, 1.07659978, 1.12379977, 1.12049977,\n",
              "        1.11419977, 1.10479978, 1.10339978, 1.11269978, 1.10569978,\n",
              "        1.11629977, 1.11839977, 1.11649977, 1.10529978, 1.10459978,\n",
              "        1.10599978, 1.11689977, 1.09599978, 1.10719978, 1.11899977,\n",
              "        1.11749977, 1.10959978, 1.12129977, 1.11649977, 1.13049977,\n",
              "        1.09489978, 1.12259977, 1.12069977, 1.09199978, 1.10599978,\n",
              "        1.09509978, 1.10169978, 1.09529978, 1.10249978, 1.11639977,\n",
              "        1.09779978, 1.11299978, 1.09849978, 1.10979978, 1.09769978,\n",
              "        1.11259978, 1.12609977, 1.10439978, 1.11609977, 1.10719978,\n",
              "        1.11549977, 1.10259978, 1.10439978, 1.12839977, 1.12569977,\n",
              "        1.11959977, 1.11239978, 1.10589978, 1.12069977, 1.11209978,\n",
              "        1.09559978, 1.06949978, 1.04299979, 1.03499979, 0.9727998 ,\n",
              "        0.9707998 , 0.93069981, 0.90979982, 0.85919983, 0.85389983,\n",
              "        0.81879983, 0.80279984, 0.76809984, 0.75739985, 0.71539986,\n",
              "        0.67689986, 0.64889987, 0.61639988, 0.60299988, 0.57429988]),\n",
              " array([-4.99999306e-01, -4.89999314e-01, -4.79999322e-01, -4.69999330e-01,\n",
              "        -4.59999338e-01, -4.49999346e-01, -4.39999354e-01, -4.29999361e-01,\n",
              "        -4.19999369e-01, -4.09999377e-01, -3.99999385e-01, -3.89999393e-01,\n",
              "        -3.79999401e-01, -3.69999409e-01, -3.59999417e-01, -3.49999425e-01,\n",
              "        -3.39999433e-01, -3.29999441e-01, -3.19999449e-01, -3.09999457e-01,\n",
              "        -2.99999465e-01, -2.89999473e-01, -2.79999481e-01, -2.69999489e-01,\n",
              "        -2.59999497e-01, -2.49999505e-01, -2.39999513e-01, -2.29999521e-01,\n",
              "        -2.19999529e-01, -2.09999537e-01, -1.99999545e-01, -1.89999553e-01,\n",
              "        -1.79999561e-01, -1.69999569e-01, -1.59999577e-01, -1.49999585e-01,\n",
              "        -1.39999593e-01, -1.29999601e-01, -1.19999609e-01, -1.09999617e-01,\n",
              "        -9.99996248e-02, -8.99996328e-02, -7.99996408e-02, -6.99996487e-02,\n",
              "        -5.99996567e-02, -4.99996647e-02, -3.99996727e-02, -2.99996807e-02,\n",
              "        -1.99996886e-02, -9.99969661e-03,  2.95411223e-07,  1.00002874e-02,\n",
              "         2.00002795e-02,  3.00002715e-02,  4.00002635e-02,  5.00002555e-02,\n",
              "         6.00002475e-02,  7.00002396e-02,  8.00002316e-02,  9.00002236e-02,\n",
              "         1.00000216e-01,  1.10000208e-01,  1.20000200e-01,  1.30000192e-01,\n",
              "         1.40000184e-01,  1.50000176e-01,  1.60000168e-01,  1.70000160e-01,\n",
              "         1.80000152e-01,  1.90000144e-01,  2.00000136e-01,  2.10000128e-01,\n",
              "         2.20000120e-01,  2.30000112e-01,  2.40000104e-01,  2.50000096e-01,\n",
              "         2.60000088e-01,  2.70000080e-01,  2.80000072e-01,  2.90000064e-01,\n",
              "         3.00000056e-01,  3.10000048e-01,  3.20000040e-01,  3.30000032e-01,\n",
              "         3.40000024e-01,  3.50000016e-01,  3.60000008e-01,  3.70000000e-01,\n",
              "         3.79999992e-01,  3.89999984e-01,  3.99999976e-01,  4.09999968e-01,\n",
              "         4.19999960e-01,  4.29999952e-01,  4.39999944e-01,  4.49999936e-01,\n",
              "         4.59999928e-01,  4.69999920e-01,  4.79999912e-01,  4.89999904e-01,\n",
              "         4.99999896e-01]))"
            ]
          },
          "metadata": {},
          "execution_count": 28
        }
      ]
    },
    {
      "cell_type": "code",
      "source": [
        "ma = np.max(np.histogram(positions, bins=100, density=True)[0])\n",
        "mi = np.min(np.histogram(positions, bins=100, density=True)[0])\n",
        "ma/mi\n"
      ],
      "metadata": {
        "colab": {
          "base_uri": "https://localhost:8080/"
        },
        "id": "Z7qTKbRoH5j4",
        "outputId": "d03827ed-e00e-45fe-97c8-61c61646eaa5"
      },
      "execution_count": null,
      "outputs": [
        {
          "output_type": "execute_result",
          "data": {
            "text/plain": [
              "1.9774357180339228"
            ]
          },
          "metadata": {},
          "execution_count": 29
        }
      ]
    },
    {
      "cell_type": "code",
      "source": [
        "#maximum occurs at position\n",
        "ma_pos= np.histogram(positions, bins=100, density=True)[1][np.argmax(np.histogram(positions, bins=100, density=True)[0])]\n",
        "ma_pos"
      ],
      "metadata": {
        "colab": {
          "base_uri": "https://localhost:8080/"
        },
        "id": "d9HXH0H0InAc",
        "outputId": "6ee0f514-df76-4e36-fbdf-7ec8aa9f3a4b"
      },
      "execution_count": null,
      "outputs": [
        {
          "output_type": "execute_result",
          "data": {
            "text/plain": [
              "-0.009999696609816033"
            ]
          },
          "metadata": {},
          "execution_count": 30
        }
      ]
    },
    {
      "cell_type": "code",
      "source": [
        "#minimum occurs at position\n",
        "mi_pos= np.histogram(positions, bins=100, density=True)[1][np.argmin(np.histogram(positions, bins=100, density=True)[0])]\n",
        "mi_pos"
      ],
      "metadata": {
        "colab": {
          "base_uri": "https://localhost:8080/"
        },
        "id": "4VdR82VwJu10",
        "outputId": "4c7f5c40-0321-4c72-8924-8127b1a5834e"
      },
      "execution_count": null,
      "outputs": [
        {
          "output_type": "execute_result",
          "data": {
            "text/plain": [
              "-0.4999993056407399"
            ]
          },
          "metadata": {},
          "execution_count": 31
        }
      ]
    },
    {
      "cell_type": "code",
      "source": [
        "trials = 1000\n",
        "steps = 5000\n",
        "positions = np.zeros((trials,steps))\n",
        "\n",
        "for trial in range(trials):\n",
        "    x_curr = np.random.uniform(-0.5,0.5)\n",
        "    positions[trial][0] = x_curr\n",
        "    for step in range(steps):\n",
        "        x_curr = update(x_curr)\n",
        "        positions[trial][step] = x_curr\n",
        "\n",
        "        \n",
        "    "
      ],
      "metadata": {
        "id": "NsfpjRogJ58W"
      },
      "execution_count": null,
      "outputs": []
    },
    {
      "cell_type": "code",
      "source": [
        "ma_pos = []\n",
        "mi_pos = []\n",
        "for trial in range(trials):\n",
        "    ma_pos.append(np.histogram(positions[trial], bins=100, density=True)[1][np.argmax(np.histogram(positions[trial], bins=100, density=True)[0])])\n",
        "    mi_pos.append(np.histogram(positions[trial], bins=100, density=True)[1][np.argmin(np.histogram(positions[trial], bins=100, density=True)[0])])\n"
      ],
      "metadata": {
        "id": "VD8Cw8MIMEXr"
      },
      "execution_count": null,
      "outputs": []
    },
    {
      "cell_type": "code",
      "source": [
        "fig, ax = plt.subplots(1,2)\n",
        "ax[0].hist(ma_pos, bins = 23, density=True, color='r')\n",
        "ax[1].hist(mi_pos, bins = 23, density=True, color = 'b')\n",
        "plt.show()"
      ],
      "metadata": {
        "colab": {
          "base_uri": "https://localhost:8080/",
          "height": 265
        },
        "id": "o4KGS7EUMFfc",
        "outputId": "a1b4cd64-94b7-40ef-d854-8fa41fd3082c"
      },
      "execution_count": null,
      "outputs": [
        {
          "output_type": "display_data",
          "data": {
            "text/plain": [
              "<Figure size 432x288 with 2 Axes>"
            ],
            "image/png": "[encoded data removed]"
          },
          "metadata": {
            "needs_background": "light"
          }
        }
      ]
    },
    {
      "cell_type": "code",
      "source": [
        "fig, ax = plt.subplots(1,2)\n",
        "ax[0].hist([abs(pos) for pos in ma_pos], bins = 30, density=True, color='r')\n",
        "ax[1].hist([abs(pos) for pos in mi_pos], bins = 30, density=True, color = 'b')\n",
        "plt.show()"
      ],
      "metadata": {
        "id": "RdNrqhcUNOYK",
        "colab": {
          "base_uri": "https://localhost:8080/",
          "height": 267
        },
        "outputId": "742b05c0-2fc0-4cb2-afc6-90e44ec86253"
      },
      "execution_count": null,
      "outputs": [
        {
          "output_type": "display_data",
          "data": {
            "text/plain": [
              "<Figure size 432x288 with 2 Axes>"
            ],
            "image/png": "[encoded data removed]"
          },
          "metadata": {
            "needs_background": "light"
          }
        }
      ]
    },
    {
      "cell_type": "code",
      "source": [
        ""
      ],
      "metadata": {
        "id": "kJPg1aeoUcb-"
      },
      "execution_count": null,
      "outputs": []
    }
  ]
}