{
 "cells": [
  {
   "cell_type": "markdown",
   "metadata": {},
   "source": [
    "# Riddler Classic\n",
    "\n",
    "After a long night of frivolous quackery, two delirious ducks are having a difficult time finding each other in their pond. The pond happens to contain a 3×3 grid of rocks.\n",
    "\n",
    "Every minute, each duck randomly swims, independently of the other duck, from one rock to a neighboring rock in the 3×3 grid — up, down, left or right, but not diagonally. So if a duck is at the middle rock, it will next swim to one of the four side rocks with probability 1/4. From a side rock, it will swim to one of the two adjacent corner rocks or back to the middle rock, each with probability 1/3. And from a corner rock, it will swim to one of the two adjacent side rocks with probability 1/2.\n",
    "\n",
    "If the ducks both start at the middle rock, then on average, how long will it take until they’re at the same rock again? (Of course, there’s a 1/4 chance that they’ll swim in the same direction after the first minute, in which case it would only take one minute for them to be at the same rock again. But it could take much longer, if they happen to keep missing each other.)\n",
    "\n",
    "Extra credit: What if there are three or more ducks? If they all start in the middle rock, on average, how long will it take until they are all at the same rock again?"
   ]
  },
  {
   "cell_type": "code",
   "execution_count": 37,
   "metadata": {},
   "outputs": [
    {
     "name": "stdout",
     "output_type": "stream",
     "text": [
      "4.199999999737615\n"
     ]
    },
    {
     "data": {
      "image/png": "[encoded data removed]",
      "text/plain": [
       "<Figure size 432x288 with 1 Axes>"
      ]
     },
     "metadata": {
      "needs_background": "light"
     },
     "output_type": "display_data"
    }
   ],
   "source": [
    "import numpy as np\n",
    "import matplotlib.pyplot as plt\n",
    "\n",
    "\n",
    "\"\"\"Throughout the solution I will refer to the 4 corners of the grid as the Corners, \n",
    "the middle of each edge as edge and the center as the center.\"\"\"\n",
    "\n",
    "\n",
    "\n",
    "#OverlapMatrix\n",
    "\"\"\"This matrix describes the connectivity of the grid. It has 9 rows and 9 columns. Each represents a positoin in the \n",
    "3 x 3 grid.\n",
    "The element M_ij describes the probability of going from pos i to position j in 1 step\"\"\"\n",
    "\n",
    "p=1/2.0\n",
    "q= 1/3.0\n",
    "r=1/4.0\n",
    "\n",
    "M=np.array([[0,p,0,p,0,0,0,0,0],\n",
    "   [q,0,q,0,q,0,0,0,0],\n",
    "   [0,p,0,0,0,p,0,0,0],\n",
    "   [q,0,0,0,q,0,q,0,0],\n",
    "   [0,r,0,r,0,r,0,r,0],\n",
    "   [0,0,q,0,q,0,0,0,q],\n",
    "   [0,0,0,p,0,0,0,p,0],\n",
    "   [0,0,0,0,q,0,q,0,q],\n",
    "   [0,0,0,0,0,p,0,p,0]])\n",
    "\n",
    "MTr=M.T # transpose of M\n",
    "\n",
    "S =np.array([[0],[0],[0],[0],[1],[0],[0],[0],[0]]) # This is the initial position probability distribution for each duck.\n",
    "\n",
    "def P2(N):\n",
    "    \"\"\"Probability of two ducks meeting exactly at the Nth step and never before\n",
    "    This is the crux of the matter. After 1 step the ducks are in the edge positions. \n",
    "    The probability of each duck being in each of the edge positions is 1/4. They are both in the\n",
    "    same position with probability 1/16 but there are 4 equivalent edges so the net probability is 4*1/16 = 1/4. \n",
    "    \"\"\"\n",
    "\n",
    "    \n",
    "    \n",
    "    if N % 2==0:\n",
    "        return (8/36)*(1-(9/36))**(N/2)*(1-(8/36))**((N/2)-1)\n",
    "    else:\n",
    "        return (9/36)*(1-(9/36))**((N-1)/2)*(1-(8/36))**((N-1)/2)\n",
    "    \n",
    "Avg_steps=0\n",
    "Ylist=[]\n",
    "Xlist= np.linspace(1,101,100)\n",
    "for i in range (100):\n",
    "    Avg_steps += i*P2(i)\n",
    "    Ylist.append(Avg_steps)\n",
    "\n",
    "print(Avg_steps)\n",
    "\n",
    "\n",
    "plt.plot(Xlist,Ylist,'or')\n",
    "plt.xlabel(\"Steps taken\")\n",
    "plt.ylabel(\"Estimated steps needed\")\n",
    "plt.show()"
   ]
  },
  {
   "cell_type": "code",
   "execution_count": null,
   "metadata": {},
   "outputs": [],
   "source": []
  },
  {
   "cell_type": "code",
   "execution_count": 6,
   "metadata": {},
   "outputs": [
    {
     "data": {
      "text/plain": [
       "(9, 1)"
      ]
     },
     "execution_count": 6,
     "metadata": {},
     "output_type": "execute_result"
    }
   ],
   "source": [
    "S.shape"
   ]
  },
  {
   "cell_type": "code",
   "execution_count": 7,
   "metadata": {},
   "outputs": [
    {
     "data": {
      "text/plain": [
       "(9, 9)"
      ]
     },
     "execution_count": 7,
     "metadata": {},
     "output_type": "execute_result"
    }
   ],
   "source": [
    "M.shape"
   ]
  },
  {
   "cell_type": "code",
   "execution_count": 16,
   "metadata": {},
   "outputs": [
    {
     "name": "stdout",
     "output_type": "stream",
     "text": [
      "[[0.  ]\n",
      " [0.25]\n",
      " [0.  ]\n",
      " [0.25]\n",
      " [0.  ]\n",
      " [0.25]\n",
      " [0.  ]\n",
      " [0.25]\n",
      " [0.  ]]\n"
     ]
    }
   ],
   "source": [
    "S_new = np.matmul(MTr,S)\n",
    "print(S_new)"
   ]
  },
  {
   "cell_type": "code",
   "execution_count": 17,
   "metadata": {},
   "outputs": [
    {
     "name": "stdout",
     "output_type": "stream",
     "text": [
      "[[0.16666667]\n",
      " [0.        ]\n",
      " [0.16666667]\n",
      " [0.        ]\n",
      " [0.33333333]\n",
      " [0.        ]\n",
      " [0.16666667]\n",
      " [0.        ]\n",
      " [0.16666667]]\n"
     ]
    }
   ],
   "source": [
    "S_new = np.matmul(MTr,S_new)\n",
    "print(S_new)"
   ]
  },
  {
   "cell_type": "code",
   "execution_count": 18,
   "metadata": {},
   "outputs": [
    {
     "name": "stdout",
     "output_type": "stream",
     "text": [
      "[[0.  ]\n",
      " [0.25]\n",
      " [0.  ]\n",
      " [0.25]\n",
      " [0.  ]\n",
      " [0.25]\n",
      " [0.  ]\n",
      " [0.25]\n",
      " [0.  ]]\n"
     ]
    }
   ],
   "source": [
    "S_new = np.matmul(MTr,S_new)\n",
    "print(S_new)"
   ]
  },
  {
   "cell_type": "code",
   "execution_count": 24,
   "metadata": {},
   "outputs": [
    {
     "data": {
      "text/plain": [
       "0.25"
      ]
     },
     "execution_count": 24,
     "metadata": {},
     "output_type": "execute_result"
    }
   ],
   "source": [
    "P(1)"
   ]
  },
  {
   "cell_type": "code",
   "execution_count": 25,
   "metadata": {},
   "outputs": [
    {
     "data": {
      "text/plain": [
       "0.16666666666666666"
      ]
     },
     "execution_count": 25,
     "metadata": {},
     "output_type": "execute_result"
    }
   ],
   "source": [
    "P(2)"
   ]
  },
  {
   "cell_type": "code",
   "execution_count": 28,
   "metadata": {},
   "outputs": [
    {
     "data": {
      "text/plain": [
       "array([1.])"
      ]
     },
     "execution_count": 28,
     "metadata": {},
     "output_type": "execute_result"
    }
   ],
   "source": [
    "Xlist"
   ]
  },
  {
   "cell_type": "code",
   "execution_count": null,
   "metadata": {},
   "outputs": [],
   "source": []
  }
 ],
 "metadata": {
  "kernelspec": {
   "display_name": "Python 3",
   "language": "python",
   "name": "python3"
  },
  "language_info": {
   "codemirror_mode": {
    "name": "ipython",
    "version": 3
   },
   "file_extension": ".py",
   "mimetype": "text/x-python",
   "name": "python",
   "nbconvert_exporter": "python",
   "pygments_lexer": "ipython3",
   "version": "3.7.3"
  }
 },
 "nbformat": 4,
 "nbformat_minor": 2
}
