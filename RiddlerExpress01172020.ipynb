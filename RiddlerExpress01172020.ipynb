{
 "cells": [
  {
   "cell_type": "markdown",
   "metadata": {},
   "source": [
    "# Riddler Express\n",
    "\n",
    "The Riddler Football League (RFL) playoffs are upon us! As the coach, you’ve devised a new strategy for scoring after a touchdown. Your team will line up 2 yards away from the goal line in such a way that it could attempt either a 1-point conversion or a 2-point conversion. (Unlike other football leagues, the distance is the same for both types of conversion, and you need not announce which you’ll be attempting.) Your opponent can only properly defend against one of those two possibilities, so they’ll have to guess.\n",
    "\n",
    "If you attempt a 1-point conversion and the other team defends against it properly, you’ll score 90 percent of the time. If they don’t defend it properly, you’ll score 100 percent of the time.\n",
    "\n",
    "If you instead attempt a 2-point conversion and the other team defends against it properly, you’ll score 40 percent of the time. If they don’t defend it properly, you’ll score 60 percent of the time.\n",
    "\n",
    "To tell your team which they should attempt, your team’s offensive coordinator will communicate to your team’s captain the probability with which they should attempt each. For example, the coordinator might say: “Go for 1 with a 51 percent chance, and go for 2 with a 49 percent chance.” Using a random number generator, the captain will then ultimately decide to go for 1 point or 2 points. (Naturally, every athlete in the RFL has a random number generator handy.)\n",
    "\n",
    "However, given all the spying that occurs in the RFL these days, you can assume that the offensive coordinator’s message will also be heard by your opponent — that means the defense knows the exact probability with which you’ll attempt either conversion. Your opponent also knows the probability of you scoring in each of the four scenarios listed above.\n",
    "\n",
    "With all that said, what strategy will maximize the average number of points you’ll score (i.e., how often should your team go for 1 or 2)? What should your opponent’s defensive strategy be? How many points will you score, on average, after each touchdown?"
   ]
  },
  {
   "cell_type": "markdown",
   "metadata": {},
   "source": [
    "# Solution\n",
    "\n",
    "Say the optimal strategy for your team is to go for 1 with probability p and 2 with (1-p)\n",
    "The other team knows this. They will then come up with their own strategy for that p.\n",
    "Say their strategy is to defend for 1 with probability q and 2 with probability (1-q). In general the q will be a function of p.\n",
    "\n",
    "Avg points scored(p,q)= 1(p*q*0.9+p(1-q)*1)+2((1-p)*q*0.6+(1-p)*(1-q)*0.4) = 0.8 + 0.2 p + q(0.4-0.5 p)\n",
    "\n",
    "Given a p your team is assured that the other team will deploy the best possible strategy for that p. Question is for what p is your expected outcome the maximum despite the other team employing the best strategy for that particular p?\n",
    "\n",
    "If (0.4 -0.5p) >0 i.e p < 0.8 then the best defensive strategy is clearly q=0. This would give an expected score of 0.8+0.2*p. Of course its best for your team to simply raise p to 0.8 and receive 0.96 points.\n",
    "\n",
    "If on the other hand 0.4 -0.5p < 0 i.e p > 0.8 then the best strategy for the opponent is to make q = 1. This will give an expected score of 1.2 - 0.3 p. In this case its best to again use p=0.8 to give a score of 0.96.\n",
    "\n",
    "Therfore the best strategy for your team is to go for the 1 pointer with probability 80%. If you're too conservative and choose p > 80% then the opponent should always defend for 1 while if your team is more adventurous and tries to choose  p < 80% then the opponent should always defend for 2. "
   ]
  },
  {
   "cell_type": "code",
   "execution_count": null,
   "metadata": {},
   "outputs": [],
   "source": []
  }
 ],
 "metadata": {
  "kernelspec": {
   "display_name": "Python 3",
   "language": "python",
   "name": "python3"
  },
  "language_info": {
   "codemirror_mode": {
    "name": "ipython",
    "version": 3
   },
   "file_extension": ".py",
   "mimetype": "text/x-python",
   "name": "python",
   "nbconvert_exporter": "python",
   "pygments_lexer": "ipython3",
   "version": "3.7.3"
  }
 },
 "nbformat": 4,
 "nbformat_minor": 2
}
